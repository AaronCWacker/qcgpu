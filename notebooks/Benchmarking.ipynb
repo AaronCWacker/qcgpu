{
 "cells": [
  {
   "cell_type": "code",
   "execution_count": 6,
   "metadata": {},
   "outputs": [],
   "source": [
    "import sys\n",
    "import time\n",
    "import pandas as pd\n",
    "import numpy as np\n",
    "\n",
    "# QCGPU Imports\n",
    "import qcgpu\n",
    "\n",
    "# ProjectQ Imports\n",
    "from projectq import MainEngine\n",
    "import projectq.ops as ops\n",
    "from projectq.backends import Simulator\n",
    "from projectq.types import Qureg\n",
    "\n"
   ]
  },
  {
   "cell_type": "code",
   "execution_count": 7,
   "metadata": {},
   "outputs": [],
   "source": [
    "def bench_qcgpu(n, depth):\n",
    "    state = qcgpu.State(n)\n",
    "\n",
    "    h = qcgpu.gate.h()\n",
    "    x = qcgpu.gate.x()\n",
    "    sqrt_x = qcgpu.gate.sqrt_x()\n",
    "\n",
    "    print('started')\n",
    "    start = time.time()\n",
    "\n",
    "    for level in range(depth):\n",
    "        for q in range(n):\n",
    "    \n",
    "            state.apply_gate(h, q)\n",
    "            state.apply_gate(sqrt_x, q)\n",
    "\n",
    "            if q != 0:\n",
    "                state.apply_controlled_gate(x, q, 0)\n",
    "        \n",
    "    runtime = time.time() - start\n",
    "    print('ended: ', runtime)\n",
    "    return runtime\n",
    "    \n",
    "def bench_projectq(n, depth):\n",
    "    eng = MainEngine(backend=Simulator(gate_fusion=True), engine_list=[])\n",
    "    qbits = eng.allocate_qureg(n)\n",
    "\n",
    "    print('started')\n",
    "    start = time.time()\n",
    "\n",
    "    for level in range(depth):\n",
    "        for q in qbits:\n",
    "            ops.H | q\n",
    "            ops.SqrtX | q\n",
    "            if q != qbits[0]:\n",
    "                ops.CNOT | (q, qbits[0])\n",
    "\n",
    "    runtime = time.time() - start\n",
    "    print('ended: ', runtime)\n",
    "\n",
    "    for q in qbits:\n",
    "        ops.Measure | q\n",
    "    eng.flush()\n",
    "    return runtime\n"
   ]
  },
  {
   "cell_type": "code",
   "execution_count": 8,
   "metadata": {},
   "outputs": [
    {
     "name": "stdout",
     "output_type": "stream",
     "text": [
      "started\n",
      "('ended: ', 0.2940499782562256)\n"
     ]
    },
    {
     "data": {
      "text/plain": [
       "0.2940499782562256"
      ]
     },
     "execution_count": 8,
     "metadata": {},
     "output_type": "execute_result"
    }
   ],
   "source": [
    "bench_qcgpu(26,5)"
   ]
  },
  {
   "cell_type": "code",
   "execution_count": 9,
   "metadata": {},
   "outputs": [
    {
     "name": "stdout",
     "output_type": "stream",
     "text": [
      "started\n",
      "('ended: ', 12.032409906387329)\n"
     ]
    },
    {
     "data": {
      "text/plain": [
       "12.032409906387329"
      ]
     },
     "execution_count": 9,
     "metadata": {},
     "output_type": "execute_result"
    }
   ],
   "source": [
    "bench_projectq(26,5)"
   ]
  },
  {
   "cell_type": "code",
   "execution_count": 13,
   "metadata": {},
   "outputs": [],
   "source": [
    "raw_data = {\n",
    "    'num_qubits': [2,2,2,3,3,3,4,4,4,5,5,5,6,6,6], \n",
    "    'depth': [10,20,30,10,20,30,10,20,30,10,20,30,10,20,30], \n",
    "    'time': [0.2940499782562256, 0.2940499782562256, 0.2940499782562256, 0.2940499782562256, 0.2940499782562256, 0.2940499782562256, 0.2940499782562256, 0.2940499782562256, 0.2940499782562256, 0.2940499782562256, 0.2940499782562256, 0.2940499782562256, 0.2940499782562256, 0.2940499782562256, 0.2940499782562256]\n",
    "}\n",
    "\n",
    "df = pd.DataFrame(raw_data, columns = ['num_qubits', 'depth', 'time'])\n",
    "\n",
    "df\n",
    "\n",
    "df.to_csv('out.csv')"
   ]
  },
  {
   "cell_type": "code",
   "execution_count": null,
   "metadata": {},
   "outputs": [],
   "source": []
  }
 ],
 "metadata": {
  "kernelspec": {
   "display_name": "Python 2",
   "language": "python",
   "name": "python2"
  },
  "language_info": {
   "codemirror_mode": {
    "name": "ipython",
    "version": 2
   },
   "file_extension": ".py",
   "mimetype": "text/x-python",
   "name": "python",
   "nbconvert_exporter": "python",
   "pygments_lexer": "ipython2",
   "version": "2.7.15rc1"
  }
 },
 "nbformat": 4,
 "nbformat_minor": 2
}
